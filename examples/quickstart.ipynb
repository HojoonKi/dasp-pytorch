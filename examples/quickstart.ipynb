{
  "cells": [
    {
      "cell_type": "code",
      "execution_count": null,
      "metadata": {
        "id": "Q32l5f06ohtz"
      },
      "outputs": [],
      "source": [
        "!pip install dasp-pytorch"
      ]
    },
    {
      "cell_type": "code",
      "execution_count": null,
      "metadata": {
        "id": "MsHHumIypsAy"
      },
      "outputs": [],
      "source": [
        "!wget https://csteinmetz1.github.io/sounds/assets/short_riff.wav"
      ]
    },
    {
      "cell_type": "code",
      "execution_count": null,
      "metadata": {
        "id": "VGSU9x2VojWg"
      },
      "outputs": [],
      "source": [
        "import torch\n",
        "import torchaudio\n",
        "import dasp_pytorch"
      ]
    },
    {
      "cell_type": "code",
      "execution_count": null,
      "metadata": {
        "id": "MOhyTl3mopSi"
      },
      "outputs": [],
      "source": [
        "# Load audio\n",
        "x, sr = torchaudio.load(\"short_riff.wav\")\n",
        "\n",
        "# create batch dim\n",
        "# (batch_size, n_channels, n_samples)\n",
        "x = x.unsqueeze(0)\n",
        "\n",
        "# apply some distortion with 16 dB drive\n",
        "drive = torch.tensor([16.0])\n",
        "y = dasp_pytorch.functional.distortion(x, sr, drive)\n",
        "\n",
        "# create a parameter to optimizer\n",
        "drive_hat = torch.nn.Parameter(torch.tensor(0.0))\n",
        "optimizer = torch.optim.Adam([drive_hat], lr=0.01)\n",
        "\n",
        "# optimize the parameter\n",
        "n_iters = 2500\n",
        "for n in range(n_iters):\n",
        "    # apply distortion with the estimated parameter\n",
        "    y_hat = dasp_pytorch.functional.distortion(x, sr, drive_hat)\n",
        "\n",
        "    # compute distance between estimate and target\n",
        "    loss = torch.nn.functional.mse_loss(y_hat, y)\n",
        "\n",
        "    # optimize\n",
        "    optimizer.zero_grad()\n",
        "    loss.backward()\n",
        "    optimizer.step()\n",
        "    print(\n",
        "        f\"step: {n+1}/{n_iters}, loss: {loss.item():.3e}, drive: {drive_hat.item():.3f}\\r\"\n",
        "    )\n"
      ]
    }
  ],
  "metadata": {
    "colab": {
      "provenance": []
    },
    "kernelspec": {
      "display_name": "Python 3",
      "name": "python3"
    },
    "language_info": {
      "name": "python"
    }
  },
  "nbformat": 4,
  "nbformat_minor": 0
}
